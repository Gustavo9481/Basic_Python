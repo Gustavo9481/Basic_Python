{
 "cells": [
  {
   "cell_type": "markdown",
   "metadata": {},
   "source": [
    "# Básicos de Python\n",
    "opciones de formato en la impresión de variables"
   ]
  },
  {
   "cell_type": "code",
   "execution_count": null,
   "metadata": {},
   "outputs": [],
   "source": [
    "# Variables para ejemplos\n",
    "nombre = \"Gustavo\"\n",
    "apellido = \"Colmenares\"\n",
    "\n",
    "# opción 1 operador f { }\n",
    "print(f\"Saludos {nombre} {apellido}, bienvenido nuevamente a Python\")\n",
    "\n",
    "# opción 2 operador %( )\n",
    "print(\"Saludos %s %s, bienvenido nuevamente a Python\" %(nombre,apellido))\n",
    "\n",
    "# opción 3 método .format()\n",
    "print(\"Saludos {0} {1}, bienvenido nuevamente a Python\".format(nombre, apellido))"
   ]
  },
  {
   "cell_type": "markdown",
   "metadata": {},
   "source": [
    "\n",
    "\n",
    "## Ejercicio => Suma de números positivos\n",
    "Escribir un programa que lea un entero positivo, introducido por el usuario y después muestre en pantalla la suma de todos los enteros desde 1. La suma de los primeros enteros positivos puede ser calculada de la siguiente forma:\n",
    "suma = n(n+1)/2\n",
    "Si el número introducido es 3 le resultado es 6 ( 1 + 2 + 3 )"
   ]
  },
  {
   "cell_type": "code",
   "execution_count": 1,
   "metadata": {},
   "outputs": [
    {
     "name": "stdout",
     "output_type": "stream",
     "text": [
      "Introduce un número entero: \n",
      "La suma desde 1 hasta 3 es 6.0\n"
     ]
    }
   ],
   "source": [
    "# solución del curso\n",
    "# Declaracion de Variables\n",
    "suma = 0.0\n",
    "numero = 0\n",
    " \n",
    "# Solicitud de Datos\n",
    "print(\"Introduce un número entero: \")\n",
    "numero = int(input(\"> \"))\n",
    " \n",
    "# Cálculo de la suma\n",
    "suma = numero * (numero + 1) / 2\n",
    "print(\"La suma desde 1 hasta \" + str(numero) + \" es \" + str(suma))\n"
   ]
  },
  {
   "cell_type": "code",
   "execution_count": null,
   "metadata": {},
   "outputs": [],
   "source": [
    "# Código propio\n",
    "num = int(input(\"Introduzca número entero\"))\n",
    "suma = num * (num + 1) / 2\n",
    "print(\"La suma de los enteros hasta {0} es: {1}\".format(num, suma))\n"
   ]
  },
  {
   "cell_type": "markdown",
   "metadata": {},
   "source": [
    "## Ejercicio => Area de un cuadrado\n",
    "Programa que solicite al usuario los datos para calcular el área de un Cuadrado (■), finalmente mostrar el resultado en pantalla.\n",
    "Area = Lado ** 2"
   ]
  },
  {
   "cell_type": "code",
   "execution_count": null,
   "metadata": {},
   "outputs": [],
   "source": [
    "# Código propio\n",
    "lado = int(input(\"Ingrese la longitud de un lado del cuadrado. \"))\n",
    "area = lado ** 2\n",
    "print(\"El área del cuadrado (■) es de: %s\" %(area))"
   ]
  },
  {
   "cell_type": "markdown",
   "metadata": {},
   "source": [
    "## Ejercicio => Area de un triángulo\n",
    "Programa que solicite al usuario los datos para calcular el área de un Triángulo (▲), finalmente mostrar el resultado en pantalla.\n",
    "area = (base * altura )/2"
   ]
  },
  {
   "cell_type": "code",
   "execution_count": null,
   "metadata": {},
   "outputs": [],
   "source": [
    "# Solicitud de datos\n",
    "base = int(input(\"Ingrese la base del triángulo:\"))\n",
    "altura = int(input(\"Ingrese la altura del triángulo:\"))\n",
    "\n",
    "# cálculo del área\n",
    "area = (base * altura )/2\n",
    "print(\"El área del triángulo es de %a\" %(area))\n"
   ]
  },
  {
   "cell_type": "markdown",
   "metadata": {},
   "source": [
    "## Ejercicio => Area de un círculo\n",
    "Programa que solicite al usuario los datos para calcular el área de un Círculo (●), finalmente mostrar el resultado en pantalla.\n",
    "area = PI * (radio**2)"
   ]
  },
  {
   "cell_type": "code",
   "execution_count": null,
   "metadata": {},
   "outputs": [],
   "source": [
    "import math\n",
    "# solicitud de datos\n",
    "radio = float(input(\"Ingrese el radio del círculo: \"))\n",
    "area = math.pi * (radio**2)\n",
    "area = round(area, 2)\n",
    "print(f\"El área del círculo es {area}\")\n",
    "\n"
   ]
  },
  {
   "cell_type": "markdown",
   "metadata": {},
   "source": [
    "## Ejercicio => Conversor de Farenheit a Celsius\n",
    "Programa que solicite al usuario los datos para llevar Grados Farenheit a Grados Celcius.\n",
    "celcius = (fahrenheit - 32.0) * 5.0 / 9.0"
   ]
  },
  {
   "cell_type": "code",
   "execution_count": null,
   "metadata": {},
   "outputs": [],
   "source": [
    "grados_farenheit = float(input(\"ingrese la temperatura en grados Farenheit: \"))\n",
    "celsius = round(((grados_farenheit - 32.0) * 5.0)/ 9.0)\n",
    "print(\"La temperatura en grados es de: %s\" %(celsius))\n"
   ]
  }
 ],
 "metadata": {
  "kernelspec": {
   "display_name": "Python 3.10.4 64-bit",
   "language": "python",
   "name": "python3"
  },
  "language_info": {
   "codemirror_mode": {
    "name": "ipython",
    "version": 3
   },
   "file_extension": ".py",
   "mimetype": "text/x-python",
   "name": "python",
   "nbconvert_exporter": "python",
   "pygments_lexer": "ipython3",
   "version": "3.10.4"
  },
  "orig_nbformat": 4,
  "vscode": {
   "interpreter": {
    "hash": "916dbcbb3f70747c44a77c7bcd40155683ae19c65e1c03b4aa3499c5328201f1"
   }
  }
 },
 "nbformat": 4,
 "nbformat_minor": 2
}
